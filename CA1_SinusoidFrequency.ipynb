{
 "cells": [
  {
   "cell_type": "markdown",
   "metadata": {},
   "source": [
    "# CA1: Sinusoid Frequency\n",
    "\n",
    "Your task is to write a function to determine the frequency of a sinusoid.  You may assume it's amplitude is 1 and the sampling rate is `Fs = 8000`, but nothing else.\n",
    "\n",
    "You may use any technique you want, except for a canned function that solves the problem.  Make sure to include documentation cells explaining what you are doing."
   ]
  },
  {
   "cell_type": "code",
   "execution_count": null,
   "metadata": {},
   "outputs": [],
   "source": [
    "import numpy as np\n",
    "import matplotlib.pyplot as plt\n",
    "import numpy.random as rnd\n",
    "%matplotlib inline"
   ]
  },
  {
   "cell_type": "markdown",
   "metadata": {},
   "source": [
    "Replace the empty function below with your own.  Include a proper doc string.  (Replace the placeholder \"pass\" with your code.)"
   ]
  },
  {
   "cell_type": "code",
   "execution_count": null,
   "metadata": {},
   "outputs": [],
   "source": [
    "def freqfinder(signal):\n",
    "    \"\"\"REPLACE\"\"\"\n",
    "    pass"
   ]
  },
  {
   "cell_type": "markdown",
   "metadata": {},
   "source": [
    "## Test the function\n",
    "\n",
    "In grading the assignment, we reserve the right to change any constants below."
   ]
  },
  {
   "cell_type": "code",
   "execution_count": null,
   "metadata": {},
   "outputs": [],
   "source": [
    "Fs = 8000\n",
    "tmax = 0.1\n",
    "sigma = 0.2\n",
    "freqs = [rnd.randint(0,1000), rnd.randint(1001,2000), \\\n",
    "        rnd.randint(2001,3000), rnd.randint(3001,4000)]"
   ]
  },
  {
   "cell_type": "markdown",
   "metadata": {},
   "source": [
    "## First, no noise.  "
   ]
  },
  {
   "cell_type": "code",
   "execution_count": null,
   "metadata": {},
   "outputs": [],
   "source": [
    "samples = int(tmax*Fs+1)\n",
    "t = np.linspace(0, tmax, samples)\n",
    "abserror = 0\n",
    "for f in freqs:\n",
    "    signal = np.sin(2*np.pi*f*t)\n",
    "    fhat = freqfinder(signal)\n",
    "    abserror += np.abs(fhat-f)\n",
    "print(f'Absolute Error is {abserror}.')"
   ]
  },
  {
   "cell_type": "markdown",
   "metadata": {},
   "source": [
    "## With Noise"
   ]
  },
  {
   "cell_type": "code",
   "execution_count": null,
   "metadata": {},
   "outputs": [],
   "source": [
    "abserror = 0.0\n",
    "for f in freqs:\n",
    "    signal = np.sin(2*np.pi*f*t)+sigma*rnd.randn(samples)\n",
    "    fhat = freqfinder(signal)\n",
    "    print(f'Freq: {f} Error: {np.abs(fhat-f)}')\n",
    "    abserror += np.abs(fhat-f)\n",
    "print(f'Absolute Error is {abserror}.')"
   ]
  }
 ],
 "metadata": {
  "kernelspec": {
   "display_name": "Python 3",
   "language": "python",
   "name": "python3"
  },
  "language_info": {
   "codemirror_mode": {
    "name": "ipython",
    "version": 3
   },
   "file_extension": ".py",
   "mimetype": "text/x-python",
   "name": "python",
   "nbconvert_exporter": "python",
   "pygments_lexer": "ipython3",
   "version": "3.7.3"
  }
 },
 "nbformat": 4,
 "nbformat_minor": 2
}
