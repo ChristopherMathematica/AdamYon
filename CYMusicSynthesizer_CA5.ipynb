{
 "cells": [
  {
   "cell_type": "markdown",
   "id": "9f135ce6",
   "metadata": {},
   "source": [
    "## Assignement: CA5 - Music Synthesizer\n",
    "Name: Christopher Yonek (11/28/21)  Professor: Dr. Boncelet\n",
    "\n",
    "Submit a jupyter notebook based music synthesizer.\n",
    "\n",
    "1. Play one song for about a minute or more.\n",
    "\n",
    "2. The song should be reasonably complex, at a minimum with multiple notes played simultaneously or multiple simultaneous instruments.  E.g., \"Mary had a little lamb\" is not complex enough.\n",
    "\n",
    "3. Make the sound interesting, e.g., using harmonics, modulation, realistic instruments, etc.\n",
    "\n",
    "4. Name your song and tell where you got the music (so I know what it is).\n",
    "\n",
    "5. As always, use good coding practice and document your notebook using markdown cells.\n",
    "\n",
    "6. One observation is that faster songs tend to sound better than slower ones. \n",
    "\n",
    "7. Bonus points will be awarded to particularly good submissions."
   ]
  },
  {
   "cell_type": "code",
   "execution_count": 43,
   "id": "95124f21",
   "metadata": {},
   "outputs": [],
   "source": [
    "#importing libraries to manipulate wavefiles\n",
    "%matplotlib inline\n",
    "import matplotlib.pyplot as plt\n",
    "import librosa\n",
    "import numpy as np\n",
    "import IPython.display as ipd\n",
    "import wave\n",
    "import scipy\n",
    "from scipy.io.wavfile import write"
   ]
  },
  {
   "cell_type": "markdown",
   "id": "6f07be04",
   "metadata": {},
   "source": [
    "## Studio Class: \n",
    "A library of functions to manipulate sound arrays \n",
    "\n",
    "Description: This was created to speed up and slow sounds in the form of a np.arrays[] from a wavefile. You can adjust the amplitude, overlay sounds on top of each other, and remove long silences.\n",
    "\n",
    "Return Values: np.array[] newSound"
   ]
  },
  {
   "cell_type": "code",
   "execution_count": 3,
   "id": "84e369cc",
   "metadata": {},
   "outputs": [],
   "source": [
    "class Studio:\n",
    "    '''\n",
    "    Parameters: float[] sound and int multiplier (Defaults twice the rate)\n",
    "    Description: Takes in an array and creates a new one the with \n",
    "    every other element mapped from the original. Creating the effect that\n",
    "    the sound is playing much faster.\n",
    "    Return Value: float[] newSound '''\n",
    "\n",
    "    def IncreaseSoundSpeed(sound,multiplier=2):\n",
    "        soundFileLenMultiplier = int(len(sound)/multiplier)\n",
    "        newSound = np.zeros(soundFileLenMultiplier)\n",
    "        for i in range(soundFileLenMultiplier):\n",
    "            newSound[i] = sound[multiplier*i]\n",
    "        return newSound\n",
    "    '''\n",
    "    Parameters: float[] sound and int divider (Defaults half the rate)\n",
    "    Description: Takes in an array and creates a new one the with \n",
    "    each element value repeated. Creating the effect that\n",
    "    the sound is playing much slower.\n",
    "    Return Value: float[] newSound '''\n",
    "        \n",
    "    def SlowSoundSpeed(sound,divider=2):\n",
    "        soundFileLenDivider = int(divider*len(sound))\n",
    "        newSound = np.zeros(soundFileLenDivider)\n",
    "        newSound[0:1] = sound[0:1]\n",
    "        for i in range(2,soundFileLenDivider):\n",
    "            newSound[i] = sound[int(i/divider)]\n",
    "        return newSound\n",
    "    '''\n",
    "    Parameters: float[] sound\n",
    "    Description: Takes in an array and removes the zeros in the array.\n",
    "    This effectively removes the silence in an audio file.\n",
    "    Return Value: float[] newSound'''\n",
    "    \n",
    "    def RemoveSilence(sound):\n",
    "        newSound = np.empty(0)\n",
    "        for j in range(len(sound)):\n",
    "            if sound[j] != 0:\n",
    "                newSound = np.append(newSound,sound[j])\n",
    "        return newSound\n",
    "    '''\n",
    "    Parameters: float[] sound and float increaseFactor\n",
    "    Description: Takes in an array and increases each value by an increaseFactor\n",
    "    Return Value: float[] newSound'''\n",
    "    \n",
    "    def IncreaseAmplitude(sound,increaseFactor):\n",
    "        newSound = np.zeros(len(sound))\n",
    "        for k in range(len(sound)):\n",
    "            newSound[k] = increaseFactor * sound[k]\n",
    "        return newSound\n",
    "    '''\n",
    "    Parameters: float[] sound1 and float[] sound2\n",
    "    Description: Takes in an 2 arrays and adds them both together to\n",
    "    overlay the sound. It restricts the output of the sound to the smallest\n",
    "    array\n",
    "    Return Value: float[] newSound'''\n",
    "    \n",
    "    def OverlaySound(sound1,sound2):\n",
    "        if (len(sound1) == len(sound2)):\n",
    "            return sound1 + sound2\n",
    "        if (len(sound1) < len(sound2)):\n",
    "            return sound1 + sound2[0:len(sound1)]\n",
    "        if (len(sound1) > len(sound2)):\n",
    "            return sound1[0:len(sound2)] + sound2\n",
    "        '''\n",
    "    Parameters: float[] freq, int sec, int fs\n",
    "    Description: Generates a sinewave array given a frequency\n",
    "    and second duration.\n",
    "    Return Value: float[] sound'''\n",
    "    def GenerateSound(freq, sec=1,fs = 44100):\n",
    "        t = np.linspace(0, sec, fs * sec) # <- setup time values\n",
    "        sound = np.sin(2 * np.pi * freq * t) # <- sine function formula\n",
    "        return sound"
   ]
  },
  {
   "cell_type": "markdown",
   "id": "a4af382b",
   "metadata": {},
   "source": [
    "## Creating Music from Generic SineWaves and WAV files:"
   ]
  },
  {
   "cell_type": "code",
   "execution_count": 8,
   "id": "2120fa45",
   "metadata": {},
   "outputs": [],
   "source": [
    "#Importing WAV files from directory\n",
    "#When grading this you must use the attached wavefiles and put them\n",
    "#in your directory\n",
    "shopSong, fs = librosa.load('C:/Users/13022/Shop.wav')\n",
    "drumSong, fs = librosa.load('C:/Users/13022/Drum.wav')\n",
    "moonsetterSong, fs = librosa.load('C:/Users/13022/Moonsetter.wav')\n",
    "meleeSong, fs = librosa.load('C:/Users/13022/Melee.wav')\n",
    "corneriaSong, fs = librosa.load('C:/Users/13022/Corneria.wav')\n",
    "bigBlueSong, fs = librosa.load('C:/Users/13022/BigBlue.wav')"
   ]
  },
  {
   "cell_type": "markdown",
   "id": "a69d5f5e",
   "metadata": {},
   "source": [
    "## Links to songs:\n",
    "Shop by Toby Fox: https://www.youtube.com/watch?v=R0uNPIa-I9c\n",
    "\n",
    "Drum background by Alec Koff: https://www.youtube.com/watch?v=Sxeg6j8tp3Y\n",
    "\n",
    "Moonsetter by Toby Fox: https://www.youtube.com/watch?v=75kJb_aAvKY\n",
    "\n",
    "Melee (Opening) by Nintendo: https://www.youtube.com/watch?v=RXs4-M-ZiOg\n",
    "\n",
    "Corneria by Nintendo: https://www.youtube.com/watch?v=5KKoo_5v8rM\n",
    "\n",
    "Big Blue by Nintendo: https://www.youtube.com/watch?v=B3jzYwX-pa0\n",
    "\n",
    "Site to convert video to WAV: https://loader.to/en28/youtube-wav-converter.html"
   ]
  },
  {
   "cell_type": "code",
   "execution_count": 5,
   "id": "87d28ec0",
   "metadata": {},
   "outputs": [],
   "source": [
    "lowHighWave = np.append(Studio.GenerateSound(440),Studio.GenerateSound(1200)) #Generate Low freq Wave\n",
    "lowHighWave = Studio.IncreaseSoundSpeed(np.append(lowHighWave,Studio.GenerateSound(440)),8)\n",
    "shortenedShop = Studio.RemoveSilence(shopSong[700000:980000]) #Shortens shop song by removing 0s in array\n",
    "spedShop = Studio.IncreaseSoundSpeed(shortenedShop,3) #speeds up shop by 3x\n",
    "spedMoonsetter = Studio.IncreaseAmplitude(Studio.IncreaseSoundSpeed(moonsetterSong[0:320000]),0.5) "
   ]
  },
  {
   "cell_type": "code",
   "execution_count": 41,
   "id": "afefd054",
   "metadata": {},
   "outputs": [],
   "source": [
    "lowHighLowWave = Studio.IncreaseAmplitude(lowHighWave,.02) #Increase amplitude of comvined sinewave\n",
    "moonsetterAndWave = np.append(Studio.IncreaseAmplitude(spedMoonsetter,2),lowHighLowWave)\n",
    "slowedCorneria = Studio.SlowSoundSpeed(corneriaSong[0:132000]) #Slows corneria\n",
    "normalCorneria = np.append(slowedCorneria,corneriaSong[132000:350000]) #Combines slow and normal corneria\n",
    "corneriaShop = np.append(normalCorneria,spedShop) #Combines corneria to spedshop\n",
    "spedCorneria = np.append(corneriaShop,Studio.IncreaseSoundSpeed(corneriaSong[400000:600000]))\n",
    "bigBlueEnding = np.append(spedCorneria,Studio.SlowSoundSpeed(bigBlueSong[200000:300000]))\n",
    "spedBigBlueEnding = np.append(bigBlueEnding,bigBlueSong[300000:550000])\n",
    "combinedSongs = np.append(meleeSong[0:180000],spedBigBlueEnding)\n",
    "compiledSongs = np.append(combinedSongs, Studio.OverlaySound(spedMoonsetter,Studio.IncreaseAmplitude(drumSong[300000:len(drumSong)],0.5)))\n",
    "finalAudio = np.append(compiledSongs,lowHighLowWave) #Output final song"
   ]
  },
  {
   "cell_type": "code",
   "execution_count": 1,
   "id": "addf4289",
   "metadata": {},
   "outputs": [],
   "source": [
    "scipy.io.wavfile.write('CA5.wav', fs, finalAudio)  Write Final Song to Wavefile"
   ]
  },
  {
   "cell_type": "markdown",
   "id": "18182347",
   "metadata": {},
   "source": [
    "## Creating Video: Visualizing frequency and Sound\n",
    "Using audio_display fft2png,\n",
    "1) You must go in anaconda prompt and run:\n",
    "* \"pip install audio_display\"\n",
    "2) You must run: \"fft2png -R2 -w4 -s4 -c30 -C FF8080A0 --audio-min-freq 100 -i SongName.wav -o output-{:06}.png\"\n",
    "\n",
    "Using ffmpeg,\n",
    "1) You must go in anaconda prompt and run:\n",
    "* \"pip install ffmpeg\"\n",
    "* You must download:https://www.gyan.dev/ffmpeg/builds/ , \"ffmpeg-git-essentials.7z\"\n",
    "* Unzip it to your directory (ex. C:/user/1330), then run the executable in the anaconda prompt.\n",
    "* Before you run the exe add this line \"ffmpeg -framerate 30 -i output-%06d.png output-file.avi\"\n",
    "* run the ffmpeg.exe again with \"ffmpeg -i \"output-file.avi\" -i \"SongName.wav\" -shortest audioAndVideo.mp4"
   ]
  },
  {
   "cell_type": "code",
   "execution_count": null,
   "id": "d563fb12",
   "metadata": {},
   "outputs": [],
   "source": [
    "''' ====fft2png and ffmpeg in CA5====\n",
    "fft2png -R2 -w4 -s4 -c30 -C FF8080A0 --audio-min-freq 100 -i CA5.wav -o output-{:06}.png\n",
    "(The command above produces PNGs of the frequency spectrum of the given wave)\n",
    "\n",
    "ffmpeg -framerate 30 -i output-%06d.png output-file.avi\n",
    "(The command above adds PNGs together at a specified framerate)\n",
    "\n",
    "ffmpeg -i \"output-file.avi\" -i \"combinedSongs.wav\" -shortest codingAssignment5.mp4 \n",
    "(The command above combines audio and video to an mp4 file)\n",
    "'''"
   ]
  },
  {
   "cell_type": "code",
   "execution_count": 4,
   "id": "6a38553f",
   "metadata": {},
   "outputs": [],
   "source": [
    "def play_movie(path):\n",
    "    from os import startfile\n",
    "    startfile(path)\n",
    "play_movie('C:/Users/13022/codingAssignment5.mp4')\n",
    "#This opens the movie"
   ]
  },
  {
   "cell_type": "code",
   "execution_count": null,
   "id": "02f9e260",
   "metadata": {},
   "outputs": [],
   "source": []
  }
 ],
 "metadata": {
  "kernelspec": {
   "display_name": "Python 3",
   "language": "python",
   "name": "python3"
  },
  "language_info": {
   "codemirror_mode": {
    "name": "ipython",
    "version": 3
   },
   "file_extension": ".py",
   "mimetype": "text/x-python",
   "name": "python",
   "nbconvert_exporter": "python",
   "pygments_lexer": "ipython3",
   "version": "3.8.8"
  }
 },
 "nbformat": 4,
 "nbformat_minor": 5
}
