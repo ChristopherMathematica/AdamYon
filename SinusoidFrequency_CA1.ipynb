{
 "cells": [
  {
   "cell_type": "code",
   "execution_count": 170,
   "metadata": {},
   "outputs": [],
   "source": [
    "#Christopher Yonek\n",
    "#CA1: Sinusoid Frequency\n",
    "#11/15/21: ELEG206"
   ]
  },
  {
   "cell_type": "markdown",
   "metadata": {},
   "source": [
    "# CA1: Sinusoid Frequency\n",
    "\n",
    "Your task is to write a function to determine the frequency of a sinusoid.  You may assume it's amplitude is 1 and the sampling rate is `Fs = 8000`, but nothing else.\n",
    "\n",
    "You may use any technique you want, except for a canned function that solves the problem.  Make sure to include documentation cells explaining what you are doing."
   ]
  },
  {
   "cell_type": "code",
   "execution_count": 8,
   "metadata": {},
   "outputs": [],
   "source": [
    "import numpy as np\n",
    "import matplotlib.pyplot as plt\n",
    "import numpy.random as rnd\n",
    "%matplotlib inline"
   ]
  },
  {
   "cell_type": "markdown",
   "metadata": {},
   "source": [
    "Replace the empty function below with your own.  Include a proper doc string.  (Replace the placeholder \"pass\" with your code.)"
   ]
  },
  {
   "cell_type": "markdown",
   "metadata": {},
   "source": [
    "## Test the function\n",
    "\n",
    "In grading the assignment, we reserve the right to change any constants below."
   ]
  },
  {
   "cell_type": "code",
   "execution_count": 134,
   "metadata": {},
   "outputs": [],
   "source": [
    "Fs = 8000\n",
    "tmax = 0.1\n",
    "sigma = 0.2\n",
    "freqs = [rnd.randint(0,1000), rnd.randint(1001,2000), \\\n",
    "        rnd.randint(2001,3000), rnd.randint(3001,4000)]"
   ]
  },
  {
   "cell_type": "markdown",
   "metadata": {},
   "source": [
    "## First, no noise.  "
   ]
  },
  {
   "cell_type": "markdown",
   "metadata": {},
   "source": [
    "## With Noise"
   ]
  },
  {
   "cell_type": "code",
   "execution_count": 169,
   "metadata": {},
   "outputs": [
    {
     "name": "stdout",
     "output_type": "stream",
     "text": [
      "Absolute Error is 0.\n"
     ]
    }
   ],
   "source": [
    "abserror = 0.0\n",
    "samples = int(tmax*Fs+1)\n",
    "t = np.linspace(0, tmax, samples)\n",
    "abserror = 0\n",
    "for f in freqs:\n",
    "    signal = np.sin(2*np.pi*f*t)\n",
    "    fhat = freqFinder(signal)\n",
    "    abserror += np.abs(fhat-f)\n",
    "print(f'Absolute Error is {abserror}.')"
   ]
  },
  {
   "cell_type": "markdown",
   "metadata": {},
   "source": [
    "## With Noise"
   ]
  },
  {
   "cell_type": "code",
   "execution_count": 95,
   "metadata": {},
   "outputs": [],
   "source": [
    "def discreteFourierTransform(givenSig):\n",
    "    lengthOfSignal = len(givenSig)\n",
    "    n = np.arange(lengthOfSignal)\n",
    "    k = n.reshape((lengthOfSignal, 1))\n",
    "    e = np.exp(-2j * np.pi * k * n / )\n",
    "    freqDomainSig = np.dot(e, x)\n",
    "    return freqDomainSig"
   ]
  },
  {
   "cell_type": "code",
   "execution_count": 129,
   "metadata": {},
   "outputs": [],
   "source": [
    "def freqFinder(signal,fs=8000):\n",
    "    t = linspace(0,2*np.pi,fs) #Create Domain \n",
    "    y_fft = discreteFourierTransform(signal)  # Original FFT\n",
    "    y_fft = y_fft[:round(len(t)/2)] # First half ( pos freqs ) negatives are not counted\n",
    "    y_fft =  np.abs(y_fft)/max(y_fft) # Absolute value of magnitudes\n",
    "    f_loc = np.argmax(y_fft) # Finds the index of the max\n",
    "    freq_x_axis = np.linspace(0, fs/2, len(y_fft))\n",
    "    f_val = freq_x_axis[f_loc] # Highest Frequency \n",
    "    return (2*f_val)"
   ]
  },
  {
   "cell_type": "code",
   "execution_count": 163,
   "metadata": {},
   "outputs": [
    {
     "name": "stdout",
     "output_type": "stream",
     "text": [
      "Freq: 605 Error: 5.0\n",
      "Freq: 1788 Error: 2.0\n",
      "Freq: 2688 Error: 2.0\n",
      "Freq: 3388 Error: 2.0\n",
      "Absolute Error is 11.0.\n"
     ]
    }
   ],
   "source": [
    "abserror = 0.0\n",
    "\n",
    "for f in freqs:\n",
    "    signal = np.sin(2*np.pi*f*t)+sigma*rnd.randn(samples)\n",
    "    fhat = freqFinder(signal)\n",
    "    print(f'Freq: {f} Error: {np.abs(fhat-f)}')\n",
    "    abserror += np.abs(fhat-f)\n",
    "print(f'Absolute Error is {abserror}.')"
   ]
  },
  {
   "cell_type": "code",
   "execution_count": null,
   "metadata": {},
   "outputs": [],
   "source": []
  }
 ],
 "metadata": {
  "kernelspec": {
   "display_name": "Python 3",
   "language": "python",
   "name": "python3"
  },
  "language_info": {
   "codemirror_mode": {
    "name": "ipython",
    "version": 3
   },
   "file_extension": ".py",
   "mimetype": "text/x-python",
   "name": "python",
   "nbconvert_exporter": "python",
   "pygments_lexer": "ipython3",
   "version": "3.8.8"
  }
 },
 "nbformat": 4,
 "nbformat_minor": 2
}
